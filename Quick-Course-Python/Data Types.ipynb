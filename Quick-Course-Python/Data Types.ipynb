{
 "cells": [
  {
   "cell_type": "markdown",
   "id": "c89d3636-cfd9-437b-8818-1db74d2a27b5",
   "metadata": {},
   "source": [
    "#### Data Types"
   ]
  },
  {
   "cell_type": "code",
   "execution_count": 1,
   "id": "8f578ecb-1544-4d48-b359-ce8f643703a4",
   "metadata": {},
   "outputs": [
    {
     "name": "stdout",
     "output_type": "stream",
     "text": [
      "17\n"
     ]
    }
   ],
   "source": [
    "# Integer\n",
    "age = 17\n",
    "print(age)"
   ]
  },
  {
   "cell_type": "code",
   "execution_count": 2,
   "id": "a754305a-7c12-471d-a3c7-99247a514861",
   "metadata": {},
   "outputs": [
    {
     "name": "stdout",
     "output_type": "stream",
     "text": [
      "10.7\n"
     ]
    }
   ],
   "source": [
    "# FLoat\n",
    "weight = 10.7\n",
    "print(weight)"
   ]
  },
  {
   "cell_type": "code",
   "execution_count": 9,
   "id": "84c5498d-c006-484a-8908-b8f8cb3915e8",
   "metadata": {},
   "outputs": [
    {
     "data": {
      "text/plain": [
       "'10.7'"
      ]
     },
     "execution_count": 9,
     "metadata": {},
     "output_type": "execute_result"
    }
   ],
   "source": [
    "# Float to String\n",
    "str(weight)"
   ]
  },
  {
   "cell_type": "code",
   "execution_count": 7,
   "id": "78219893-f0cb-4b05-bab7-d277bc469cd3",
   "metadata": {},
   "outputs": [
    {
     "data": {
      "text/plain": [
       "10"
      ]
     },
     "execution_count": 7,
     "metadata": {},
     "output_type": "execute_result"
    }
   ],
   "source": [
    "# Float to integer\n",
    "int(weight)"
   ]
  },
  {
   "cell_type": "code",
   "execution_count": 10,
   "id": "46cef280-5f86-4da6-bff2-34fbc9157d68",
   "metadata": {},
   "outputs": [
    {
     "name": "stdout",
     "output_type": "stream",
     "text": [
      "MB511\n"
     ]
    }
   ],
   "source": [
    "# String\n",
    "course = \"MB511\"\n",
    "print(course)"
   ]
  },
  {
   "cell_type": "code",
   "execution_count": 13,
   "id": "a92a1971-53f7-4c30-ae01-812b1948a696",
   "metadata": {},
   "outputs": [
    {
     "data": {
      "text/plain": [
       "True"
      ]
     },
     "execution_count": 13,
     "metadata": {},
     "output_type": "execute_result"
    }
   ],
   "source": [
    "# Float to Bool\n",
    "bool(weight)"
   ]
  },
  {
   "cell_type": "code",
   "execution_count": 15,
   "id": "f8cc8397-4141-44d8-b356-00d997241e70",
   "metadata": {},
   "outputs": [
    {
     "data": {
      "text/plain": [
       "False"
      ]
     },
     "execution_count": 15,
     "metadata": {},
     "output_type": "execute_result"
    }
   ],
   "source": [
    "bool(0)"
   ]
  },
  {
   "cell_type": "code",
   "execution_count": 18,
   "id": "e1eee856-552d-42a9-9137-6c2898801e2c",
   "metadata": {},
   "outputs": [
    {
     "data": {
      "text/plain": [
       "True"
      ]
     },
     "execution_count": 18,
     "metadata": {},
     "output_type": "execute_result"
    }
   ],
   "source": [
    "bool(12)"
   ]
  },
  {
   "cell_type": "code",
   "execution_count": 20,
   "id": "bcf209f1-cc46-41b4-93f1-5154d660b038",
   "metadata": {},
   "outputs": [
    {
     "data": {
      "text/plain": [
       "10.0"
      ]
     },
     "execution_count": 20,
     "metadata": {},
     "output_type": "execute_result"
    }
   ],
   "source": [
    "float(10)"
   ]
  },
  {
   "cell_type": "code",
   "execution_count": 21,
   "id": "b322a27f-2fe7-4dde-8ff8-3cea83757653",
   "metadata": {},
   "outputs": [],
   "source": [
    "char1 = '123'\n",
    "char2 = 'MBA511'"
   ]
  },
  {
   "cell_type": "code",
   "execution_count": 23,
   "id": "54774420-78f6-4e78-803e-a8762915bcaf",
   "metadata": {},
   "outputs": [
    {
     "data": {
      "text/plain": [
       "123"
      ]
     },
     "execution_count": 23,
     "metadata": {},
     "output_type": "execute_result"
    }
   ],
   "source": [
    "# Charater to Num (Int & Float)\n",
    "int(char1)\n"
   ]
  },
  {
   "cell_type": "code",
   "execution_count": 24,
   "id": "e754d69e-a31a-4b86-9130-5f85daa77193",
   "metadata": {},
   "outputs": [
    {
     "ename": "ValueError",
     "evalue": "invalid literal for int() with base 10: 'MBA511'",
     "output_type": "error",
     "traceback": [
      "\u001b[1;31m---------------------------------------------------------------------------\u001b[0m",
      "\u001b[1;31mValueError\u001b[0m                                Traceback (most recent call last)",
      "Cell \u001b[1;32mIn[24], line 2\u001b[0m\n\u001b[0;32m      1\u001b[0m \u001b[38;5;66;03m# Charater to Num (Int & Float)\u001b[39;00m\n\u001b[1;32m----> 2\u001b[0m \u001b[38;5;28mint\u001b[39m(char2)\n",
      "\u001b[1;31mValueError\u001b[0m: invalid literal for int() with base 10: 'MBA511'"
     ]
    }
   ],
   "source": [
    "# Charater to Num (Int & Float)\n",
    "int(char2)"
   ]
  },
  {
   "cell_type": "code",
   "execution_count": 25,
   "id": "fabbdeaa-c4dd-4b7a-864b-cfa4e9e10008",
   "metadata": {},
   "outputs": [
    {
     "data": {
      "text/plain": [
       "True"
      ]
     },
     "execution_count": 25,
     "metadata": {},
     "output_type": "execute_result"
    }
   ],
   "source": [
    "bool('MBA')"
   ]
  },
  {
   "cell_type": "code",
   "execution_count": 26,
   "id": "0f9b8010-3810-4434-b281-b3be941661fc",
   "metadata": {},
   "outputs": [
    {
     "data": {
      "text/plain": [
       "1"
      ]
     },
     "execution_count": 26,
     "metadata": {},
     "output_type": "execute_result"
    }
   ],
   "source": [
    "int(True)"
   ]
  },
  {
   "cell_type": "code",
   "execution_count": 27,
   "id": "ae7ca64e-f4d6-4237-ba6b-3e448499369c",
   "metadata": {},
   "outputs": [
    {
     "data": {
      "text/plain": [
       "0"
      ]
     },
     "execution_count": 27,
     "metadata": {},
     "output_type": "execute_result"
    }
   ],
   "source": [
    "int(False)"
   ]
  },
  {
   "cell_type": "code",
   "execution_count": 28,
   "id": "19745b32-e677-48b7-94f2-0147bc2e5128",
   "metadata": {},
   "outputs": [
    {
     "data": {
      "text/plain": [
       "1.0"
      ]
     },
     "execution_count": 28,
     "metadata": {},
     "output_type": "execute_result"
    }
   ],
   "source": [
    "float(True)"
   ]
  },
  {
   "cell_type": "code",
   "execution_count": 29,
   "id": "974aceaa-4230-4c2e-abb9-4c40cb7ae9a9",
   "metadata": {},
   "outputs": [
    {
     "data": {
      "text/plain": [
       "'True'"
      ]
     },
     "execution_count": 29,
     "metadata": {},
     "output_type": "execute_result"
    }
   ],
   "source": [
    "str(True)"
   ]
  },
  {
   "cell_type": "code",
   "execution_count": null,
   "id": "54d17b55-b7a3-4780-bc1e-405f0496f7ee",
   "metadata": {},
   "outputs": [],
   "source": []
  }
 ],
 "metadata": {
  "kernelspec": {
   "display_name": "Python 3 (ipykernel)",
   "language": "python",
   "name": "python3"
  },
  "language_info": {
   "codemirror_mode": {
    "name": "ipython",
    "version": 3
   },
   "file_extension": ".py",
   "mimetype": "text/x-python",
   "name": "python",
   "nbconvert_exporter": "python",
   "pygments_lexer": "ipython3",
   "version": "3.11.7"
  }
 },
 "nbformat": 4,
 "nbformat_minor": 5
}
